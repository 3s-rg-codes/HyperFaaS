{
 "cells": [
  {
   "cell_type": "code",
   "execution_count": 1,
   "id": "87123a6c",
   "metadata": {},
   "outputs": [],
   "source": [
    "import torch\n",
    "import torch.nn as nn\n",
    "import torch.optim as optim\n",
    "import polars as pl"
   ]
  },
  {
   "cell_type": "code",
   "execution_count": 5,
   "id": "1ab3a7d8",
   "metadata": {},
   "outputs": [],
   "source": [
    "# Test Data\n",
    "X_train = torch.tensor([\n",
    "    [2, 1, 0],\n",
    "    [1, 3, 1],\n",
    "    [2, 2, 2],\n",
    "    [2, 2, 4],\n",
    "    [3, 3, 0]\n",
    "], dtype=torch.float32)\n",
    "\n",
    "# Corresponding CPU and RAM usage\n",
    "# 10, 10, 100\n",
    "# 40, 10, 5\n",
    "y_train = torch.tensor([\n",
    "    [30, 100],\n",
    "    [140, 75],\n",
    "    [240, 110],\n",
    "    [440, 120],\n",
    "    [60, 150]\n",
    "], dtype=torch.float32)\n",
    "\n",
    "df = pl.read_csv(\"training.csv\")\n",
    "X_df = torch.tensor(df.select([\"hyperfaas-thumbnailer-json:latest_active_calls\",\"hyperfaas-echo:latest_active_calls\",\"hyperfaas-bfs-json:latest_active_calls\"]).to_numpy(), dtype=torch.float32)\n",
    "Y_df =  torch.tensor(df.select([\"cpu_usage\",\"memory_usage\"]).to_numpy(), dtype=torch.float32)"
   ]
  },
  {
   "cell_type": "code",
   "execution_count": 3,
   "id": "72d86295",
   "metadata": {},
   "outputs": [],
   "source": [
    "class ResourceUsageModel(nn.Module):\n",
    "    def __init__(self, input_size):\n",
    "        super(ResourceUsageModel, self).__init__()\n",
    "        # Single linear layer: input_size -> 2 outputs\n",
    "        self.linear = nn.Linear(input_size, 2)\n",
    "\n",
    "    def forward(self, x):\n",
    "        return self.linear(x)"
   ]
  },
  {
   "cell_type": "code",
   "execution_count": 7,
   "id": "50934f09",
   "metadata": {},
   "outputs": [
    {
     "name": "stdout",
     "output_type": "stream",
     "text": [
      "Epoch [200/1000], Loss: 831.6086\n",
      "Epoch [400/1000], Loss: 777.7339\n",
      "Epoch [600/1000], Loss: 775.9797\n",
      "Epoch [800/1000], Loss: 775.6640\n",
      "Epoch [1000/1000], Loss: 775.5357\n",
      "Predicted CPU and RAM usage: [[ 0.514303 87.45232 ]]\n"
     ]
    }
   ],
   "source": [
    "input_size = 3\n",
    "model = ResourceUsageModel(input_size)\n",
    "\n",
    "# Loss function and optimizer\n",
    "criterion = nn.MSELoss()\n",
    "optimizer = optim.SGD(model.parameters(), lr=0.01)\n",
    "\n",
    "# Training loop\n",
    "num_epochs = 1000\n",
    "for epoch in range(num_epochs):\n",
    "    # Forward pass\n",
    "    outputs = model(X_df)\n",
    "    loss = criterion(outputs, Y_df)\n",
    "\n",
    "    # Backward and optimize\n",
    "    optimizer.zero_grad()\n",
    "    loss.backward()\n",
    "    optimizer.step()\n",
    "\n",
    "    if (epoch+1) % 200 == 0:\n",
    "        print(f'Epoch [{epoch+1}/{num_epochs}], Loss: {loss.item():.4f}')\n",
    "\n",
    "# Example prediction\n",
    "with torch.no_grad():\n",
    "    test_input = torch.tensor([[0, 1, 0]], dtype=torch.float32)\n",
    "    predicted = model(test_input)\n",
    "    print(\"Predicted CPU and RAM usage:\", predicted.numpy())"
   ]
  }
 ],
 "metadata": {
  "kernelspec": {
   "display_name": "Python 3",
   "language": "python",
   "name": "python3"
  },
  "language_info": {
   "codemirror_mode": {
    "name": "ipython",
    "version": 3
   },
   "file_extension": ".py",
   "mimetype": "text/x-python",
   "name": "python",
   "nbconvert_exporter": "python",
   "pygments_lexer": "ipython3",
   "version": "3.13.2"
  }
 },
 "nbformat": 4,
 "nbformat_minor": 5
}
